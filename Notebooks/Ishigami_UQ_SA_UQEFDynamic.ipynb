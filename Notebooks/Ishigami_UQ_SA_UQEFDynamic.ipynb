{
 "cells": [
  {
   "cell_type": "markdown",
   "id": "81472df0-b122-48ef-a8c5-ab5cfee40ca3",
   "metadata": {},
   "source": [
    "# Anaylsis of Ishigami Function"
   ]
  },
  {
   "cell_type": "code",
   "execution_count": null,
   "id": "d5846d1b-83f3-4f36-8188-cfc25cacd83a",
   "metadata": {},
   "outputs": [],
   "source": [
    "import dill\n",
    "import os\n",
    "import chaospy as cp\n",
    "import numpy as np\n",
    "import math\n",
    "import sys\n",
    "import pathlib\n",
    "import pandas as pd\n",
    "import pickle\n",
    "import time\n",
    "from collections import defaultdict\n",
    "\n",
    "import matplotlib.pyplot as plt\n",
    "import matplotlib.cm as cm\n",
    "import plotly.graph_objects as go\n",
    "import plotly.express as px\n",
    "from plotly.subplots import make_subplots\n",
    "import seaborn as sns\n",
    "\n",
    "import plotly.offline as pyo\n",
    "# Set notebook mode to work in offline\n",
    "pyo.init_notebook_mode()\n",
    "\n",
    "import uqef"
   ]
  },
  {
   "cell_type": "code",
   "execution_count": null,
   "id": "83bdeaf5-30bb-4a55-ba2c-29540532457f",
   "metadata": {},
   "outputs": [],
   "source": [
    "sys.path.insert(1, '/work/ga45met/mnt/linux_cluster_2/UQEF-Dynamic')\n",
    "from uqef_dynamic.utils import utility\n",
    "from uqef_dynamic.utils import uqPostprocessing\n",
    "from uqef_dynamic.models.ishigami import IshigamiModel\n",
    "from uqef_dynamic.models.ishigami import IshigamiStatistics\n"
   ]
  },
  {
   "cell_type": "markdown",
   "id": "99fa73f1-5df9-47e8-b562-381b5a50313e",
   "metadata": {},
   "source": [
    "- [m1] MC (samples-based) with pick-freeze approach\n",
    "- [m2] Saltelli/MC (samples-based) with rank-based approach\n",
    "- [m3] gPCE+SC regression approach...\n",
    "- [m4] gPCE+PSP with a full grid and polynomials of total-order\n",
    "- [m5] gPCE+PSP with sparse grid and polynomials of total-order\n",
    "- [m6] gPCE+PSP with a full grid and sparse polynomials (hyperbolic truncation)\n",
    "- [m7] gPCE+PSP with sparse grid and sparse polynomials (hyperbolic truncation)\n",
    "\n"
   ]
  },
  {
   "cell_type": "markdown",
   "id": "97edab0b-a07e-495e-827d-8241fa21c7f7",
   "metadata": {},
   "source": [
    "## (Simple) Running the Ishigami function"
   ]
  },
  {
   "cell_type": "code",
   "execution_count": null,
   "id": "8b8391fd-7f3c-42da-9a6c-44040bdb59d2",
   "metadata": {},
   "outputs": [],
   "source": [
    "a = 7\n",
    "b = 0.1\n",
    "ishigamiModelObject = IshigamiModel.IshigamiModel(configurationObject=None, a=a, b=b)"
   ]
  },
  {
   "cell_type": "code",
   "execution_count": null,
   "id": "82b46bfa-d82b-4f65-ad39-d64a1c907579",
   "metadata": {},
   "outputs": [],
   "source": [
    "x1 = cp.Uniform(-math.pi, math.pi)\n",
    "x2 = cp.Uniform(-math.pi, math.pi)\n",
    "x3 = cp.Uniform(-math.pi, math.pi)\n",
    "joint_isghigami = cp.J(x1, x2, x3)\n",
    "joint_isghigami_standard = cp.J(cp.Uniform(-1,1), cp.Uniform(-1,1), cp.Uniform(-1,1))"
   ]
  },
  {
   "cell_type": "code",
   "execution_count": null,
   "id": "22b39b56-66f3-4758-a9b1-feb05fbf4bb6",
   "metadata": {},
   "outputs": [],
   "source": [
    "coordinates = joint_isghigami.sample(10)\n",
    "coordinates.shape"
   ]
  },
  {
   "cell_type": "code",
   "execution_count": null,
   "id": "ed951be5-1a97-4bed-9e4c-4306dbd3aff2",
   "metadata": {},
   "outputs": [],
   "source": [
    "# sime show-case how to run IshigamiModel for multiple set of parameters\n",
    "coordinates = joint_isghigami.sample(10)\n",
    "# results = ishigamiModelObject.run(i_s=range(coordinates.shape[1]), parameters=coordinates.T)\n",
    "results = ishigamiModelObject(i_s=range(coordinates.shape[1]), parameters=coordinates.T)\n",
    "results"
   ]
  },
  {
   "cell_type": "code",
   "execution_count": null,
   "id": "36abb4ea-9d7b-4ef4-8537-66314615bd89",
   "metadata": {},
   "outputs": [],
   "source": [
    "results[0][0]['result_time_series']"
   ]
  },
  {
   "cell_type": "code",
   "execution_count": null,
   "id": "a804d0f8-bbe6-48af-8701-5d6c5cdbb598",
   "metadata": {},
   "outputs": [],
   "source": [
    "ishigamiModelObject.list_qoi_column\n",
    "ishigamiModelObject.time_column_name\n",
    "ishigamiModelObject.index_column_name"
   ]
  },
  {
   "cell_type": "code",
   "execution_count": null,
   "id": "0357be4c-3cd5-4eba-95d3-6481c8dcc30d",
   "metadata": {},
   "outputs": [],
   "source": [
    "# processing the collected result\n",
    "df_simulation_result, df_index_parameter_values, _, _, _, _ =  uqPostprocessing.uqef_dynamic_model_run_results_array_to_dataframe(results, \n",
    " extract_only_qoi_columns=False, qoi_columns=ishigamiModelObject.list_qoi_column, \n",
    " time_column_name= ishigamiModelObject.time_column_name, index_column_name= ishigamiModelObject.index_column_name)\n",
    "df_simulation_result"
   ]
  },
  {
   "cell_type": "code",
   "execution_count": null,
   "id": "4f324f7d-9157-4514-9dda-08325d0714b8",
   "metadata": {},
   "outputs": [],
   "source": [
    "# Just to double-check if the order of parametres indeed corresponds to the order of model output...\n",
    "coordinates = df_index_parameter_values[df_index_parameter_values[ishigamiModelObject.index_column_name]==0][[\"x1\", \"x2\", \"x3\"]].values[0]\n",
    "IshigamiModel.ishigami_func(coordinates, a_model_param=7, b_model_param=0.1)\n"
   ]
  },
  {
   "cell_type": "code",
   "execution_count": null,
   "id": "f350a8cd-509d-4af2-8571-f9eff033e059",
   "metadata": {},
   "outputs": [],
   "source": [
    "df_index_parameter_values"
   ]
  },
  {
   "cell_type": "markdown",
   "id": "18b367c1-cc6b-4b4d-93b2-e96c80754ee6",
   "metadata": {},
   "source": [
    "## Plotting the Function"
   ]
  },
  {
   "cell_type": "code",
   "execution_count": null,
   "id": "70974dc8-59b5-47dd-b8f7-e04a8a56af33",
   "metadata": {},
   "outputs": [],
   "source": [
    "# Plotting the Ishigami Function\n",
    "#IshigamiModel.ishigami_func(coordinates, a_model_param=7, b_model_param=0.1)\n",
    "x1_array = [0.0, math.pi/4, math.pi/2, math.pi]\n",
    "x2_array = [0.0, math.pi/4, math.pi/2, math.pi]\n",
    "x3_array = [0.0, math.pi/4, math.pi/2, math.pi]\n",
    "l = len(x3_array)\n",
    "# set up a figure twice as wide as it is tall\n",
    "fig = plt.figure(figsize=plt.figaspect(0.25))\n",
    "x = y = np.arange(-math.pi, math.pi, 0.05)\n",
    "X, Y = np.meshgrid(x, y)\n",
    "for i in range(l):\n",
    "    ax = fig.add_subplot(1, l, i+1, projection='3d')\n",
    "    zs = np.array(\n",
    "        IshigamiModel.ishigami_func_vec((x1_array[i], np.ravel(X), np.ravel(Y)), a_model_param=7, b_model_param=0.1)\n",
    "    )\n",
    "    Z = zs.reshape(X.shape)\n",
    "\n",
    "    ax.plot_surface(X, Y, Z, cmap=cm.coolwarm)\n",
    "    ax.set_xlabel('X2')\n",
    "    ax.set_ylabel('X3')\n",
    "    ax.set_zlabel(f'Ishigami(x2,x3)')\n",
    "    ax.set_title(f'x1={x1_array[i]}')\n",
    "\n",
    "# Add a color bar which maps values to colors.\n",
    "# fig.colorbar(surf, shrink=0.5, aspect=5)\n",
    "plt.show()"
   ]
  },
  {
   "cell_type": "code",
   "execution_count": null,
   "id": "7d48fbc7-863a-4903-9053-838eb2d25176",
   "metadata": {},
   "outputs": [],
   "source": [
    "x = y = np.arange(-math.pi, math.pi, 0.05)\n",
    "X, Y = np.meshgrid(x, y)\n",
    "zs = np.array(\n",
    "        IshigamiModel.ishigami_func_vec((np.ravel(X), np.ravel(Y), math.pi), a_model_param=7, b_model_param=0.1)\n",
    ")\n",
    "Z = zs.reshape(X.shape)\n",
    "Z_0 = np.zeros(X.shape)\n",
    "fig = go.Figure(data=[go.Surface(z=Z, x=X, y=Y)])\n",
    "fig.add_trace(go.Surface(z=Z_0, x=X, y=Y))\n",
    "fig.update_layout(scene = dict(\n",
    "                    xaxis_title='x1',\n",
    "                    yaxis_title='x2',\n",
    "                    zaxis_title='ishigami(x1,x2)'),\n",
    "                    width=650,\n",
    "                    margin=dict(r=20, b=10, l=10, t=10))\n",
    "fig.show()"
   ]
  },
  {
   "cell_type": "markdown",
   "id": "e5db06cb-1e25-422e-a2a9-e12673777583",
   "metadata": {},
   "source": [
    "# Analysis of a Single Output Produced by UQEF-Dynamics"
   ]
  },
  {
   "cell_type": "code",
   "execution_count": null,
   "id": "6ef7e074-9a67-43a7-b650-22a66bf345ec",
   "metadata": {},
   "outputs": [],
   "source": [
    "# TODO - change these paths/variables accordingly\n",
    "scratch_dir = pathlib.Path(\"/work/ga45met/ishigami_runs/simulations_sep_2024\")\n",
    "\n",
    "workingDir = scratch_dir / \"sc_full_p4_l8_ct07\"\n",
    "workingDir = scratch_dir / \"sc_full_p4_q8\"\n",
    "workingDir = scratch_dir / \"mc_100000_random\"\n",
    "workingDir = scratch_dir / \"sc_full_p7_q14\"\n",
    "\n",
    "qoi_string=\"Value\"\n",
    "timestamp=0.0"
   ]
  },
  {
   "cell_type": "code",
   "execution_count": null,
   "id": "e4b25a55-3461-4dce-b53e-3798d922e8ea",
   "metadata": {},
   "outputs": [],
   "source": [
    "if not workingDir.is_dir():\n",
    "    print(\"Watch out - The path is not an existing folder.\")\n",
    "    \n",
    "dict_output_file_paths = utility.get_dict_with_output_file_paths_based_on_workingDir(workingDir)\n",
    "args_file = dict_output_file_paths.get(\"args_file\")\n",
    "configuration_object_file = dict_output_file_paths.get(\"configuration_object_file\")\n",
    "nodes_file = dict_output_file_paths.get(\"nodes_file\")\n",
    "df_all_index_parameter_file = dict_output_file_paths.get(\"df_all_index_parameter_file\")\n",
    "df_all_simulations_file = dict_output_file_paths.get(\"df_all_simulations_file\")\n",
    "time_info_file = dict_output_file_paths.get(\"time_info_file\")\n",
    "\n",
    "dict_output_file_paths_qoi = utility.get_dict_with_qoi_name_specific_output_file_paths_based_on_workingDir(workingDir, qoi_string)\n",
    "statistics_dictionary_file = dict_output_file_paths_qoi.get(\"statistics_dictionary_file\")\n",
    "\n",
    "dict_output_file_paths_qoi_time = utility.get_dict_with_qoi_name_timestamp_specific_output_file_paths_based_on_workingDir(workingDir, qoi_string, timestamp)\n",
    "gpce_surrogate_file = dict_output_file_paths_qoi_time.get(\"gpce_surrogate_file\")\n",
    "gpce_coeffs_file = dict_output_file_paths_qoi_time.get(\"gpce_coeffs_file\")\n",
    "\n",
    "# Additional files being saved\n",
    "sobol_m_error_file = workingDir / \"sobol_m_error.npy\"\n",
    "sobol_m_qoi_file = workingDir / \"sobol_m_qoi_file.npy\"\n",
    "sobol_t_error_file = workingDir / \"sobol_t_error.npy\"\n",
    "sobol_t_qoi_file = workingDir / \"sobol_t_qoi_file.npy\""
   ]
  },
  {
   "cell_type": "code",
   "execution_count": null,
   "id": "d1c0c738-6969-4057-a9dd-34e41b792111",
   "metadata": {},
   "outputs": [],
   "source": [
    "gpce_surrogate_file.is_file()"
   ]
  },
  {
   "cell_type": "code",
   "execution_count": null,
   "id": "e97f5cf9-1563-4f47-877d-c971da551c4b",
   "metadata": {},
   "outputs": [],
   "source": [
    "dict_with_results_of_interest = defaultdict()"
   ]
  },
  {
   "cell_type": "markdown",
   "id": "1d406793-7da5-4633-9ef4-c7c355232d49",
   "metadata": {},
   "source": [
    "## Reading UQEF-Dynamic Output files"
   ]
  },
  {
   "cell_type": "code",
   "execution_count": null,
   "id": "33362612-a9a6-4d28-a48e-b64879b94498",
   "metadata": {},
   "outputs": [],
   "source": [
    "with open(args_file, 'rb') as f:\n",
    "    uqsim_args = pickle.load(f)\n",
    "uqsim_args_dict = vars(uqsim_args)\n",
    "\n",
    "with open(configuration_object_file, 'rb') as f:\n",
    "    configurationObject = dill.load(f)\n",
    "configurationObject"
   ]
  },
  {
   "cell_type": "code",
   "execution_count": null,
   "id": "36674261-50f9-466b-bae7-41ba12ef0eb3",
   "metadata": {},
   "outputs": [],
   "source": [
    "uqsim_args_dict"
   ]
  },
  {
   "cell_type": "code",
   "execution_count": null,
   "id": "7fe4552d-8018-42ae-9a08-f346f55196be",
   "metadata": {},
   "outputs": [],
   "source": [
    "param_labeles = utility.get_list_of_uncertain_parameters_from_configuration_dict(\n",
    "    configurationObject, raise_error=True, uq_method=uqsim_args_dict[\"uq_method\"])\n",
    "param_labeles"
   ]
  },
  {
   "cell_type": "code",
   "execution_count": null,
   "id": "403d0bb1-56a3-4b07-bcc3-61d338bad24e",
   "metadata": {},
   "outputs": [],
   "source": [
    "variant = None\n",
    "if uqsim_args_dict[\"uq_method\"]== \"mc\":\n",
    "    variant = \"m1\"\n",
    "    dict_with_results_of_interest[\"mc_numevaluations\"] = uqsim_args_dict[\"mc_numevaluations\"]\n",
    "    dict_with_results_of_interest[\"sampling_rule\"] = uqsim_args_dict[\"sampling_rule\"]\n",
    "elif uqsim_args_dict[\"uq_method\"]==\"saltelli\":\n",
    "    variant = \"m2\"\n",
    "    dict_with_results_of_interest[\"mc_numevaluations\"] = uqsim_args_dict[\"mc_numevaluations\"]\n",
    "    dict_with_results_of_interest[\"sampling_rule\"] = uqsim_args_dict[\"sampling_rule\"]\n",
    "elif uqsim_args_dict[\"uq_method\"]==\"sc\" and uqsim_args_dict[\"regression\"]:\n",
    "    variant = \"m3\"\n",
    "    dict_with_results_of_interest[\"q_order\"] = uqsim_args_dict[\"sc_q_order\"]\n",
    "    dict_with_results_of_interest[\"q_order\"] = uqsim_args_dict[\"sc_p_order\"]\n",
    "elif uqsim_args_dict[\"uq_method\"]==\"sc\" and not uqsim_args_dict[\"regression\"]:\n",
    "    \"\"\"\n",
    "    [m4] gPCE+PSP with a full grid and polynomials of total-order\n",
    "    [m5] gPCE+PSP with sparse grid and polynomials of total-order\n",
    "    [m6] gPCE+PSP with a full grid and sparse polynomials (hyperbolic truncation)\n",
    "    [m7] gPCE+PSP with sparse grid and sparse polynomials (hyperbolic truncation)\n",
    "    \"\"\"\n",
    "    dict_with_results_of_interest[\"q_order\"] = uqsim_args_dict[\"sc_q_order\"]\n",
    "    dict_with_results_of_interest[\"p_order\"] = uqsim_args_dict[\"sc_p_order\"]\n",
    "    dict_with_results_of_interest[\"read_nodes_from_file\"] = uqsim_args_dict[\"read_nodes_from_file\"]\n",
    "    dict_with_results_of_interest[\"sc_quadrature_rule\"] = uqsim_args_dict[\"sc_quadrature_rule\"]\n",
    "\n",
    "    if (not uqsim_args_dict[\"sc_sparse_quadrature\"] and not uqsim_args_dict[\"read_nodes_from_file\"]) and uqsim_args_dict[\"cross_truncation\"]==1.0:\n",
    "        variant = \"m4\"\n",
    "    elif (uqsim_args_dict[\"sc_sparse_quadrature\"] or uqsim_args_dict[\"read_nodes_from_file\"]) and uqsim_args_dict[\"cross_truncation\"]==1.0:\n",
    "        variant = \"m5\"\n",
    "    elif (not uqsim_args_dict[\"sc_sparse_quadrature\"] and not uqsim_args_dict[\"read_nodes_from_file\"]) and uqsim_args_dict[\"cross_truncation\"]<1.0:\n",
    "        dict_with_results_of_interest[\"cross_truncation\"] = uqsim_args_dict[\"cross_truncation\"]\n",
    "        variant = \"m6\"\n",
    "    elif (uqsim_args_dict[\"sc_sparse_quadrature\"] or uqsim_args_dict[\"read_nodes_from_file\"]) and uqsim_args_dict[\"cross_truncation\"]<1.0:\n",
    "        dict_with_results_of_interest[\"cross_truncation\"] = uqsim_args_dict[\"cross_truncation\"]\n",
    "        variant = \"m7\"\n",
    "        \n",
    "dict_with_results_of_interest[\"variant\"] = variant\n",
    "dict_with_results_of_interest[\"outputModelDir\"] = workingDir\n",
    "\n",
    "#     \"error_model_linf\":None, \"error_model_l2\":None, \"error_mean\":None, \"error_var\":None, \n",
    "#     \"sobol_m_error\":None, \"sobol_t_error\":None\n"
   ]
  },
  {
   "cell_type": "code",
   "execution_count": null,
   "id": "becf3a46-6178-4fda-ad30-61fcfc529a31",
   "metadata": {},
   "outputs": [],
   "source": [
    "simulation_settings_dict = utility.read_simulation_settings_from_configuration_object(configurationObject)\n",
    "qoi_column = simulation_settings_dict[\"qoi_column\"]\n",
    "qoi_column\n",
    "list_qoi_column = simulation_settings_dict[\"list_qoi_column\"]\n",
    "list_qoi_column"
   ]
  },
  {
   "cell_type": "code",
   "execution_count": null,
   "id": "1c5ef875-7707-431a-89c4-5d1a2a7f30d4",
   "metadata": {},
   "outputs": [],
   "source": [
    "simulation_settings_dict"
   ]
  },
  {
   "cell_type": "code",
   "execution_count": null,
   "id": "d351d59b-9cdd-456e-849b-9282861228db",
   "metadata": {},
   "outputs": [],
   "source": [
    "with open(time_info_file) as f:\n",
    "    lines = f.readlines()\n",
    "    for line in lines:\n",
    "        print(line)\n",
    "        if line.startswith(\"time_model_simulations\"):\n",
    "         dict_with_results_of_interest[\"time_model_simulations\"] = line.split(':')[1].strip()\n",
    "        elif line.startswith(\"time_computing_statistics\"):\n",
    "            dict_with_results_of_interest[\"time_computing_statistics\"] = line.split(':')[1].strip()\n"
   ]
  },
  {
   "cell_type": "markdown",
   "id": "364f5325-f2ff-4047-a1e9-917cb3e569f3",
   "metadata": {},
   "source": [
    "## Reading Simulation Nodes / Parameters"
   ]
  },
  {
   "cell_type": "code",
   "execution_count": null,
   "id": "c197b26b-5133-49e1-8c88-17a02a3a9f21",
   "metadata": {},
   "outputs": [],
   "source": [
    "with open(nodes_file, 'rb') as f:\n",
    "#     simulationNodes = dill.load(f)\n",
    "    simulationNodes = pickle.load(f)\n",
    "# simulationNodes\n",
    "\n",
    "print(simulationNodes.nodes.shape)\n",
    "print(simulationNodes.parameters.shape)\n",
    "\n",
    "dict_with_results_of_interest[\"number_full_model_evaluations\"] = simulationNodes.nodes.shape[1]"
   ]
  },
  {
   "cell_type": "code",
   "execution_count": null,
   "id": "9d649ee5-a41d-4b57-abee-26077f9f7255",
   "metadata": {},
   "outputs": [],
   "source": [
    "simulationNodes.joinedDists"
   ]
  },
  {
   "cell_type": "code",
   "execution_count": null,
   "id": "3d1b981e-b8d1-40b6-891b-3d657f792e7d",
   "metadata": {},
   "outputs": [],
   "source": [
    "simulationNodes.joinedStandardDists"
   ]
  },
  {
   "cell_type": "code",
   "execution_count": null,
   "id": "5f332c55-6479-46da-bf81-55517fc3ec1c",
   "metadata": {},
   "outputs": [],
   "source": [
    "if df_all_index_parameter_file.is_file():\n",
    "    df_index_parameter = pd.read_pickle(df_all_index_parameter_file, compression=\"gzip\")\n",
    "else:\n",
    "    df_index_parameter = None\n",
    "df_index_parameter"
   ]
  },
  {
   "cell_type": "code",
   "execution_count": null,
   "id": "6c7b202e-7e9e-434a-990e-14eef4e75f7e",
   "metadata": {},
   "outputs": [],
   "source": [
    "if df_index_parameter is not None:\n",
    "    params_list = utility._get_parameter_columns_df_index_parameter_gof(\n",
    "        df_index_parameter)\n",
    "else:\n",
    "    params_list = []\n",
    "    for single_param in configurationObject[\"parameters\"]:\n",
    "        params_list.append(single_param[\"name\"])\n",
    "params_list"
   ]
  },
  {
   "cell_type": "code",
   "execution_count": null,
   "id": "272f26df-c893-4224-996f-fe47ee8609ff",
   "metadata": {},
   "outputs": [],
   "source": [
    "fig = utility.plot_subplot_params_hist_from_df(df_index_parameter)\n",
    "fig.update_layout(title=\"Prior Distribution of the Parameters\",)\n",
    "fig.show()"
   ]
  },
  {
   "cell_type": "code",
   "execution_count": null,
   "id": "793b0323-0171-4225-a2d1-6de0f8aae645",
   "metadata": {},
   "outputs": [],
   "source": [
    "df_nodes = utility.get_df_from_simulationNodes(simulationNodes, nodes_or_paramters=\"nodes\", params_list=params_list)\n",
    "df_nodes_params = utility.get_df_from_simulationNodes(simulationNodes, nodes_or_paramters=\"parameters\",  params_list=params_list)\n"
   ]
  },
  {
   "cell_type": "code",
   "execution_count": null,
   "id": "8422598a-e8eb-492c-a990-e5044e0a8ecf",
   "metadata": {},
   "outputs": [],
   "source": [
    "df_nodes_params"
   ]
  },
  {
   "cell_type": "code",
   "execution_count": null,
   "id": "f0cebaa0-d820-4efc-a360-6b09b188761f",
   "metadata": {},
   "outputs": [],
   "source": [
    "fig = utility.plot_3d_dynamic(df_nodes_params)\n",
    "fig.show()"
   ]
  },
  {
   "cell_type": "code",
   "execution_count": null,
   "id": "95c28750-39d8-43d0-af0d-e4a9ee81f312",
   "metadata": {},
   "outputs": [],
   "source": [
    "utility.plot_2d_matrix_static(df_nodes, nodes_or_paramters=\"nodes\")\n",
    "# sns.set(style=\"ticks\", color_codes=True)\n",
    "# g = sns.pairplot(df_nodes, vars=list(df_nodes.columns), corner=True)\n",
    "# plt.title(f\"Plot: nodes\", loc='left')\n",
    "# plt.show()"
   ]
  },
  {
   "cell_type": "code",
   "execution_count": null,
   "id": "ea5bcc02-b660-4c4a-bbe8-2d32d9ebc7ce",
   "metadata": {},
   "outputs": [],
   "source": [
    "print(df_nodes_params.loc[728])\n",
    "print(df_index_parameter.loc[728])"
   ]
  },
  {
   "cell_type": "code",
   "execution_count": null,
   "id": "cb45480d-b8bb-4b21-8c42-4f6e132fe824",
   "metadata": {},
   "outputs": [],
   "source": [
    "if dict_with_results_of_interest[\"variant\"] in [\"m4\", \"m5\", \"m6\", \"m7\"]:\n",
    "    dict_with_results_of_interest[\"full_number_quadrature_points\"] = \\\n",
    "    (dict_with_results_of_interest[\"q_order\"] + 1) ** simulationNodes.nodes.shape[0]"
   ]
  },
  {
   "cell_type": "markdown",
   "id": "d844c3d4-0b28-4f48-8296-13b2f1b54fbb",
   "metadata": {},
   "source": [
    "## Reading all the simulations"
   ]
  },
  {
   "cell_type": "code",
   "execution_count": null,
   "id": "eb3a0836-ea4c-4760-b9c6-bdc4be8b644d",
   "metadata": {},
   "outputs": [],
   "source": [
    "read_all_saved_simulations_file = True\n",
    "if read_all_saved_simulations_file and df_all_simulations_file.is_file():\n",
    "    # Reading Saved Simulations - Note: This migh be a huge file,\n",
    "    # especially for MC/Saltelli kind of simulations\n",
    "    df_simulation_result = pd.read_pickle(df_all_simulations_file, compression=\"gzip\")\n",
    "    dict_with_results_of_interest[\"number_full_model_evaluations\"] = len(df_simulation_result)\n",
    "else:\n",
    "    df_simulation_result = None\n",
    "df_simulation_result"
   ]
  },
  {
   "cell_type": "markdown",
   "id": "0ca76639-3107-4699-a0dc-0008cafe8e27",
   "metadata": {},
   "source": [
    "## Read a Dictionary Containing Statistics Data"
   ]
  },
  {
   "cell_type": "code",
   "execution_count": null,
   "id": "e72dafc8-e57c-41bb-a169-6d8d246cacc2",
   "metadata": {},
   "outputs": [],
   "source": [
    "statistics_dictionary = uqPostprocessing.read_all_saved_statistics_dict(\\\n",
    "    workingDir, list_qoi_column, uqsim_args_dict.get(\"instantly_save_results_for_each_time_step\", False), throw_error=True)\n",
    "\n",
    "statistics_dictionary  = statistics_dictionary['Value'][0.0]\n",
    "statistics_dictionary"
   ]
  },
  {
   "cell_type": "markdown",
   "id": "b4255eee-b775-4e9c-ae51-1d309106db54",
   "metadata": {},
   "source": [
    "## Comparing E and Var"
   ]
  },
  {
   "cell_type": "code",
   "execution_count": null,
   "id": "47186b33-40d8-4032-8962-891dc42b1e52",
   "metadata": {},
   "outputs": [],
   "source": [
    "numSamples = 10 ** 5  # numSamples_for_checking\n",
    "rule = sampling_rule = \"random\"\n",
    "compute_var = True\n",
    "analytical_mean = 3.48227783540168 #None\n",
    "analytical_var = 13.887058470972093 #None\n",
    "if analytical_mean is None:\n",
    "    expectedInterp, varianceInterp = utility.compute_mc_quantity(\n",
    "        model=IshigamiModel.ishigami_func, jointDists=simulationNodes.joinedDists, numSamples=numSamples, rule=rule, \n",
    "        compute_mean=True, compute_var=compute_var)\n",
    "    analytical_mean = expectedInterp\n",
    "    analytical_var = varianceInterp\n",
    "\n",
    "#dict_with_results_of_interest[\"analytical_mean\"] = analytical_mean\n",
    "dict_with_results_of_interest[\"error_mean\"] = abs(analytical_mean - statistics_dictionary['E'])\n",
    "print(f\"analytical_mean = {analytical_mean} \\n\"\n",
    "      f\"approximated_mean = {statistics_dictionary['E']} \\n\"\n",
    "f\"Error in mean = {dict_with_results_of_interest['error_mean']} \\n\")\n",
    "\n",
    "#dict_with_results_of_interest[\"analytical_var\"] = analytical_var\n",
    "dict_with_results_of_interest[\"error_var\"] = abs(analytical_var - statistics_dictionary['Var'])\n",
    "if analytical_var is not None:\n",
    "    print(f\"analytical_var = {analytical_var} \\n\"\n",
    "         f\"approximated_var = {statistics_dictionary['Var']} \\n\"\n",
    "    f\"Error in var = {dict_with_results_of_interest['error_var']} \\n\")\n"
   ]
  },
  {
   "cell_type": "markdown",
   "id": "604b6adb-8cad-4864-9a46-9a91cbabdc3d",
   "metadata": {},
   "source": [
    "## Reading all SA related data, e.g., error"
   ]
  },
  {
   "cell_type": "code",
   "execution_count": null,
   "id": "6cdf0c64-7464-4662-bbef-90eb3bda9c66",
   "metadata": {},
   "outputs": [],
   "source": [
    "Sobol_m_analytical = np.array([0.3138, 0.4424, 0.0], dtype=np.float64)\n",
    "Sobol_m_analytical_2 = np.array([0.3139, 0.4424, 0.0000], dtype=np.float64)\n",
    "\n",
    "Sobol_t_analytical = np.array([0.5574, 0.4424, 0.2436], dtype=np.float64)\n",
    "Sobol_t_analytical_2 = np.array([0.5576, 0.4424, 0.2437], dtype=np.float64)"
   ]
  },
  {
   "cell_type": "code",
   "execution_count": null,
   "id": "8780643a-89f8-4df3-9440-f2a26f1df1b8",
   "metadata": {},
   "outputs": [],
   "source": [
    "if \"Sobol_m\" in statistics_dictionary and sobol_m_qoi_file.is_file():\n",
    "    Sobol_m = statistics_dictionary['Sobol_m'] \n",
    "    print(f\"Sobol_m - {Sobol_m}\")\n",
    "    Sobol_m = np.load(sobol_m_qoi_file)\n",
    "    print(f\"Sobol_m - {Sobol_m}\")\n",
    "    Sobol_m_error = abs(Sobol_m - Sobol_m_analytical)\n",
    "    Sobol_m_error_2 = abs(np.load(sobol_m_error_file))\n",
    "    print(f\"Sobol_m_error - {Sobol_m_error}\")\n",
    "    print(f\"Sobol_m_error_2 - {Sobol_m_error_2}\")\n",
    "    dict_with_results_of_interest[\"sobol_m\"] = Sobol_m\n",
    "    dict_with_results_of_interest[\"sobol_m_error\"] = Sobol_m_error_2\n",
    "if \"Sobol_t\" in statistics_dictionary and sobol_t_qoi_file.is_file():\n",
    "    Sobol_t = statistics_dictionary['Sobol_m'] \n",
    "    print(f\"Sobol_t - {Sobol_t}\")\n",
    "    Sobol_t = np.load(sobol_t_qoi_file)\n",
    "    print(f\"Sobol_t - {Sobol_t}\")\n",
    "    Sobol_t_error = abs(Sobol_t - Sobol_t_analytical)\n",
    "    Sobol_t_error_2 = abs(np.load(sobol_t_error_file))\n",
    "    print(f\"Sobol_t_error - {Sobol_t_error}\")\n",
    "    print(f\"Sobol_t_error_2 - {Sobol_t_error_2}\")\n",
    "    dict_with_results_of_interest[\"sobol_t\"] = Sobol_t\n",
    "    dict_with_results_of_interest[\"sobol_t_error\"] = Sobol_t_error_2"
   ]
  },
  {
   "cell_type": "markdown",
   "id": "ffb7ba39-0000-4758-a97b-f4f14bf97f97",
   "metadata": {},
   "source": [
    "## GPCE Surrogate (re-evaluating it...)"
   ]
  },
  {
   "cell_type": "code",
   "execution_count": null,
   "id": "907112fd-dca5-43cb-aa2a-436b6f7e2821",
   "metadata": {},
   "outputs": [],
   "source": [
    "print(gpce_surrogate_file.is_file())\n",
    "if gpce_surrogate_file.is_file():\n",
    "    with open(gpce_surrogate_file, 'rb') as f:\n",
    "    #     simulationNodes = dill.load(f)\n",
    "        gpce_surrogate = pickle.load(f)\n",
    "elif 'gPCE' in statistics_dictionary:\n",
    "    gpce_surrogate = statistics_dictionary['gPCE']\n",
    "else:\n",
    "    raise Exception(f\"Sorry you did not save gPCE surrogate\")\n",
    "\n",
    "dict_with_results_of_interest[\"max_p_order\"] = max(np.linalg.norm(vector, ord=1) for vector in gpce_surrogate.exponents)\n",
    "dict_with_results_of_interest[\"gPCE_num_coeffs\"] = gpce_surrogate.exponents.shape[0]"
   ]
  },
  {
   "cell_type": "code",
   "execution_count": null,
   "id": "01d06d97-d7ed-4089-bf9e-78b90f673161",
   "metadata": {},
   "outputs": [],
   "source": [
    "gpce_coeffs = np.load(gpce_coeffs_file, allow_pickle=True)\n",
    "print(gpce_coeffs)"
   ]
  },
  {
   "cell_type": "code",
   "execution_count": null,
   "id": "7770195f-8329-4fd7-b6e3-95345074f86f",
   "metadata": {},
   "outputs": [],
   "source": [
    "gpce_surrogate"
   ]
  },
  {
   "cell_type": "code",
   "execution_count": null,
   "id": "c7b68a2d-4114-4337-8b00-74d8db59da02",
   "metadata": {},
   "outputs": [],
   "source": [
    "gpce_surrogate.coefficients"
   ]
  },
  {
   "cell_type": "code",
   "execution_count": null,
   "id": "015c604e-3ada-4bb9-aa5d-9bb8172d1ae3",
   "metadata": {},
   "outputs": [],
   "source": [
    "gpce_surrogate.todict()"
   ]
  },
  {
   "cell_type": "code",
   "execution_count": null,
   "id": "6ab617da-4dc7-431a-805d-9b91bb0bb360",
   "metadata": {},
   "outputs": [],
   "source": [
    "gpce_surrogate.exponents"
   ]
  },
  {
   "cell_type": "code",
   "execution_count": null,
   "id": "5d79e9a4-ac61-481a-a013-1de7691e0e81",
   "metadata": {
    "scrolled": true
   },
   "outputs": [],
   "source": [
    "# visualize\n",
    "indices = gpce_surrogate.exponents\n",
    "dimensionality = indices.shape[1]\n",
    "number_of_terms = indices.shape[0]\n",
    "dict_for_plotting = {f\"q_{i+1}\":indices[:, i] for i in range(dimensionality)}\n",
    "df_nodes_weights = pd.DataFrame(dict_for_plotting)\n",
    "sns.set(style=\"ticks\", color_codes=True)\n",
    "g = sns.pairplot(df_nodes_weights, vars = list(dict_for_plotting.keys()), corner=True)\n",
    "# plt.title(title, loc='left')\n",
    "plt.show()"
   ]
  },
  {
   "cell_type": "code",
   "execution_count": null,
   "id": "a745819d-b6f4-4e52-8a93-3c15d74b6a1e",
   "metadata": {},
   "outputs": [],
   "source": [
    "# Generating new samples\n",
    "numSamples = 1000 #5**dim #10**dim  # Note: Big Memory problem when more than 10**4 points?\n",
    "rule = 'r'\n",
    "\n",
    "new_set_of_parameters = simulationNodes.joinedDists.sample(size=numSamples, rule=rule)\n",
    "new_set_of_nodes_transformed = utility.transformation_of_parameters(\n",
    "    new_set_of_parameters, simulationNodes.joinedDists, simulationNodes.joinedStandardDists)\n",
    "\n",
    "# some check-up\n",
    "new_set_of_nodes = simulationNodes.joinedStandardDists.sample(size=numSamples, rule=rule)\n",
    "new_set_of_parameters_transformed = utility.transformation_of_parameters(\n",
    "    new_set_of_nodes, simulationNodes.joinedStandardDists, simulationNodes.joinedDists)\n",
    "\n",
    "new_set_of_parameters_II = utility.transformation_of_parameters(\n",
    "    new_set_of_nodes_transformed, simulationNodes.joinedStandardDists, simulationNodes.joinedDists)\n",
    "np.allclose(new_set_of_parameters, new_set_of_parameters_II, atol=0.01)"
   ]
  },
  {
   "cell_type": "code",
   "execution_count": null,
   "id": "14b8507b-3ac4-4dfe-bc18-dd99007421aa",
   "metadata": {},
   "outputs": [],
   "source": [
    "# Generating new samples\n",
    "numSamples = 1000 #5**dim #10**dim  # Note: Big Memory problem when more than 10**4 points?\n",
    "rule = 'r'\n",
    "\n",
    "new_set_of_parameters = simulationNodes.joinedDists.sample(size=numSamples, rule=rule)\n",
    "new_set_of_nodes_transformed = utility.transformation_of_parameters(\n",
    "    new_set_of_parameters, simulationNodes.joinedDists, simulationNodes.joinedStandardDists)\n",
    "\n",
    "\n",
    "start = time.time()\n",
    "# gPCE_model_evaluated = gPCE_model(*new_set_of_nodes_transformed)\n",
    "gPCE_model_evaluated = gpce_surrogate(*new_set_of_nodes_transformed)\n",
    "end = time.time()\n",
    "reevaluation_surrogate_model_time = end - start\n",
    "print(f\"Time needed for evaluating {new_set_of_nodes_transformed.shape[1]} \\\n",
    "gPCE model is: {reevaluation_surrogate_model_time}\")\n",
    "\n",
    "\n",
    "start = time.time()\n",
    "original_model_evaluated = np.empty([new_set_of_parameters.shape[1],])\n",
    "i=0\n",
    "for single_sample in new_set_of_parameters.T:\n",
    "    original_model_evaluated[i] = IshigamiModel.ishigami_func(\n",
    "        single_sample, a_model_param=configurationObject['other_model_parameters']['a'], b_model_param=configurationObject['other_model_parameters']['b'])\n",
    "    i+=1\n",
    "end = time.time()\n",
    "reevaluation_model_time = end - start\n",
    "print(f\"Time needed for evaluating {new_set_of_nodes_transformed.shape[1]} \\\n",
    "of the original model is: {reevaluation_model_time}\")\n",
    "\n",
    "error_linf = np.max(np.abs(original_model_evaluated - gPCE_model_evaluated))\n",
    "# error_linf_np = np.linalg.norm(original_model_evaluated - gPCE_model_evaluated, ord=np.inf)\n",
    "\n",
    "error_l2 = np.sqrt(np.sum((original_model_evaluated - gPCE_model_evaluated)**2))\n",
    "# error_l2_np = np.linalg.norm(original_model_evaluated - gPCE_model_evaluated, ord=2)\n",
    "error_l2_scaled = np.sqrt(np.sum((original_model_evaluated - gPCE_model_evaluated)**2)) / math.sqrt(numSamples)\n",
    "\n",
    "print(f\"Linf Error = {error_linf};\")\n",
    "print(f\"L2 Error = {error_l2}; L2 Error scaled = {error_l2_scaled}\")\n",
    "\n",
    "dict_with_results_of_interest[\"comparison_surrogate_vs_model_numSamples\"] = numSamples\n",
    "dict_with_results_of_interest[\"comparison_surrogate_vs_model_mc_rule\"] = rule\n",
    "dict_with_results_of_interest[\"reevaluation_surrogate_model_duration\"] = reevaluation_surrogate_model_time\n",
    "dict_with_results_of_interest[\"reevaluation_model_duration\"] = reevaluation_model_time\n",
    "dict_with_results_of_interest[\"error_model_linf\"] = error_linf\n",
    "dict_with_results_of_interest[\"error_model_l2\"] = error_l2\n",
    "dict_with_results_of_interest[\"error_model_l2_scaled\"] = error_l2_scaled"
   ]
  },
  {
   "cell_type": "code",
   "execution_count": null,
   "id": "d7771adb-981f-476f-bdca-c98aeee778aa",
   "metadata": {},
   "outputs": [],
   "source": [
    "print(gPCE_model_evaluated.shape)\n",
    "print(original_model_evaluated.shape)"
   ]
  },
  {
   "cell_type": "code",
   "execution_count": null,
   "id": "f8ef4848-0c37-435d-8a71-11c7bdc11c40",
   "metadata": {},
   "outputs": [],
   "source": [
    "gPCE_model_evaluated"
   ]
  },
  {
   "cell_type": "code",
   "execution_count": null,
   "id": "d91f9242-6a38-43ba-b820-ed721d3cb5fb",
   "metadata": {},
   "outputs": [],
   "source": [
    "original_model_evaluated"
   ]
  },
  {
   "cell_type": "code",
   "execution_count": null,
   "id": "53681902-2aa7-45a3-b1ce-755620558c7f",
   "metadata": {},
   "outputs": [],
   "source": [
    "error_array = gPCE_model_evaluated - original_model_evaluated\n",
    "error_array"
   ]
  },
  {
   "cell_type": "code",
   "execution_count": null,
   "id": "57c75a4f-a30c-444c-a23a-8bf6c901c190",
   "metadata": {},
   "outputs": [],
   "source": [
    "# jet another option is to re-evaluate the model in the original set of nodes\n",
    "# reading gPCE model\n",
    "\n",
    "# df_nodes_params; df_nodes\n",
    "# df_index_parameter\n",
    "\n",
    "f = np.empty([len(df_index_parameter[[\"x1\",\"x2\",\"x3\",]]),])\n",
    "gpce_surrogate_eval = np.empty([len(df_index_parameter[[\"x1\",\"x2\",\"x3\",]]),])\n",
    "\n",
    "for index, row in df_index_parameter[[\"x1\",\"x2\",\"x3\",]].iterrows():\n",
    "    single_sample = list(row.values)\n",
    "    single_sample_standard = utility.transformation_of_parameters(\n",
    "        single_sample, simulationNodes.joinedDists, simulationNodes.joinedStandardDists)\n",
    "    \n",
    "    f[index] = IshigamiModel.ishigami_func(\n",
    "        single_sample, a_model_param=configurationObject['other_model_parameters']['a'], b_model_param=configurationObject['other_model_parameters']['b'])\n",
    "    gpce_surrogate_eval[index] = gpce_surrogate(*single_sample_standard)  # gpce_surrogate\n",
    "\n",
    "df_index_parameter['f'] = f\n",
    "df_index_parameter['gPCE'] = gpce_surrogate_eval\n",
    "df_index_parameter['error'] = gpce_surrogate_eval - f\n",
    "df_index_parameter\n",
    "\n",
    "error_linf = np.max(np.abs(df_index_parameter['f'] - df_index_parameter['gPCE']))\n",
    "error_linf_np = np.linalg.norm(df_index_parameter['f'] - df_index_parameter['gPCE'], ord=np.inf)\n",
    "\n",
    "error_l2 = np.sqrt(np.sum((df_index_parameter['f'] - df_index_parameter['gPCE'])**2))\n",
    "error_l2_np = np.linalg.norm(df_index_parameter['f'] - df_index_parameter['gPCE'], ord=2)\n",
    "error_l2_scaled = np.sqrt(np.sum((df_index_parameter['f'] - df_index_parameter['gPCE'])**2)) / math.sqrt(len(df_index_parameter))\n",
    "\n",
    "print(f\"Linf Error = {error_linf}; Linf Error np = {error_linf_np} \\n\")\n",
    "print(f\"L2 Error = {error_l2}; L2 Error np = {error_l2_np}; L2 Error scaled = {error_l2_scaled}\")"
   ]
  },
  {
   "cell_type": "markdown",
   "id": "71d5339f-ec19-4bfc-b623-3ae2c55eea3b",
   "metadata": {},
   "source": [
    "## Printing the final dict_with_results_of_interest"
   ]
  },
  {
   "cell_type": "code",
   "execution_count": null,
   "id": "0314eacf-0bce-4e34-8444-0bd65ce44c5c",
   "metadata": {},
   "outputs": [],
   "source": [
    "# an example of pce output\n",
    "dict_with_results_of_interest"
   ]
  },
  {
   "cell_type": "markdown",
   "id": "61bb5fba-b61c-4de5-ac4c-30546357acf7",
   "metadata": {},
   "source": [
    "# Examples of reading some saved Runs/Files and printing the dictionary with all the relevant information\n",
    "## Relevant for producing convergence graphs..."
   ]
  },
  {
   "cell_type": "code",
   "execution_count": null,
   "id": "ebda1080-4a28-4bbe-b98e-fd91dc0ce1ca",
   "metadata": {},
   "outputs": [],
   "source": [
    "# TODO - change these paths/variables accordingly\n",
    "scratch_dir = pathlib.Path(\"/work/ga45met/ishigami_runs/simulations_sep_2024\")\n",
    "workingDir = scratch_dir / \"sc_full_p7_q14\"\n",
    "qoi_string=\"Value\"\n",
    "timestamp=0.0"
   ]
  },
  {
   "cell_type": "code",
   "execution_count": null,
   "id": "3ff69449-88e6-402e-b218-c7b7f6cc0add",
   "metadata": {},
   "outputs": [],
   "source": [
    "a = 7\n",
    "b = 0.1\n",
    "ishigamiModelObject = IshigamiModel.IshigamiModel(configurationObject=None, a=a, b=b)"
   ]
  },
  {
   "cell_type": "code",
   "execution_count": null,
   "id": "5066a9b7-b366-4acc-b241-fb4a44202bef",
   "metadata": {},
   "outputs": [],
   "source": [
    "dict_with_results_of_interest = uqPostprocessing.read_all_saved_uqef_dynamic_results_and_produce_dict_of_interest_single_qoi_single_timestamp(\n",
    "    workingDir=workingDir, \n",
    "    timestamp=timestamp, qoi_column_name=qoi_string,\n",
    "    plotting=False, model=ishigamiModelObject,\n",
    "    analytical_E=3.48227783540168,\n",
    "    analytical_Var=13.887058470972093,\n",
    "    analytical_Sobol_t=np.array([0.5574, 0.4424, 0.2436], dtype=np.float64),\n",
    "    analytical_Sobol_m=np.array([0.3138, 0.4424, 0.0], dtype=np.float64),\n",
    "    compare_surrogate_and_original_model=True\n",
    ")\n",
    "dict_with_results_of_interest"
   ]
  },
  {
   "cell_type": "code",
   "execution_count": null,
   "id": "d593d826-f191-4c26-82c0-55e3b6ff3083",
   "metadata": {},
   "outputs": [],
   "source": [
    "scratch_dir = pathlib.Path(\"/work/ga45met/ishigami_runs/simulations_sep_2024\")\n",
    "workingDir = scratch_dir / \"mc_100000_random\"\n",
    "qoi_string=\"Value\"\n",
    "timestamp=0.0\n",
    "dict_with_results_of_interest = uqPostprocessing.read_all_saved_uqef_dynamic_results_and_produce_dict_of_interest_single_qoi_single_timestamp(\n",
    "    workingDir=workingDir, \n",
    "    timestamp=timestamp, qoi_column_name=qoi_string,\n",
    "    plotting=False, model=ishigamiModelObject,\n",
    "    analytical_E=3.48227783540168,\n",
    "    analytical_Var=13.887058470972093,\n",
    "    analytical_Sobol_t=np.array([0.5574, 0.4424, 0.2436], dtype=np.float64),\n",
    "    analytical_Sobol_m=np.array([0.3138, 0.4424, 0.0], dtype=np.float64),\n",
    "    compare_surrogate_and_original_model=True\n",
    ")\n",
    "dict_with_results_of_interest"
   ]
  },
  {
   "cell_type": "code",
   "execution_count": null,
   "id": "cf067e40-96f9-4d34-89af-3168539dbd24",
   "metadata": {},
   "outputs": [],
   "source": [
    "scratch_dir = pathlib.Path(\"/work/ga45met/ishigami_runs/simulations_sep_2024\")\n",
    "workingDir = scratch_dir / \"saltelli_1000_random\"\n",
    "qoi_string=\"Value\"\n",
    "timestamp=0.0\n",
    "dict_with_results_of_interest = uqPostprocessing.read_all_saved_uqef_dynamic_results_and_produce_dict_of_interest_single_qoi_single_timestamp(\n",
    "    workingDir=workingDir, \n",
    "    timestamp=timestamp, qoi_column_name=qoi_string,\n",
    "    plotting=False, model=ishigamiModelObject,\n",
    "    analytical_E=3.48227783540168,\n",
    "    analytical_Var=13.887058470972093,\n",
    "    analytical_Sobol_t=np.array([0.5574, 0.4424, 0.2436], dtype=np.float64),\n",
    "    analytical_Sobol_m=np.array([0.3138, 0.4424, 0.0], dtype=np.float64),\n",
    "    compare_surrogate_and_original_model=True\n",
    ")\n",
    "dict_with_results_of_interest"
   ]
  },
  {
   "cell_type": "markdown",
   "id": "3b9e6dea-5d39-4a03-b789-e9ea3732af70",
   "metadata": {},
   "source": [
    "# PCE Analysis of Ishigami function using utility functions from UQEF-Dynamic\n",
    "This is something extra; I wanted to double check a couple of different approaches for builidng gPCE surrogate model"
   ]
  },
  {
   "cell_type": "code",
   "execution_count": null,
   "id": "321599b2-3832-45af-984f-4233d95ec709",
   "metadata": {},
   "outputs": [],
   "source": [
    "a = 7\n",
    "b = 0.1\n",
    "ishigamiModelObject = IshigamiModel.IshigamiModel(configurationObject=None, a=a, b=b)\n",
    "\n",
    "x1 = cp.Uniform(-math.pi, math.pi)\n",
    "x2 = cp.Uniform(-math.pi, math.pi)\n",
    "x3 = cp.Uniform(-math.pi, math.pi)\n",
    "\n",
    "joint_isghigami = cp.J(x1, x2, x3)\n",
    "joint_isghigami_standard = cp.J(cp.Uniform(-1,1), cp.Uniform(-1,1), cp.Uniform(-1,1))\n",
    "\n",
    "joint_dist_standard = joint_isghigami_standard\n",
    "joint_dist = joint_isghigami\n",
    "\n",
    "# this is 'my' standard approach, where in the background we always sample from and build surrogate models \n",
    "# that fit the standard distribution, and then do parameter transformation to generate parameter values to stimulate the model\n",
    "sampleFromStandardDist = True\n",
    "gPCE_over_time_my_approach, polynomial_expansion_my_approach, \\\n",
    "norms_my_approach, coeff_my_approach = uqPostprocessing.compute_PSP_for_uqef_dynamic_model(\n",
    "    ishigamiModelObject, joint_dist, \\\n",
    "    quadrature_order=14, expansion_order=7, \n",
    "    sampleFromStandardDist=sampleFromStandardDist,\n",
    "    joint_dist_standard=joint_dist_standard,\n",
    "    rule_quadrature='g', \\\n",
    "    poly_rule='three_terms_recurrence', poly_normed=True, \\\n",
    "    qoi_column_name=ishigamiModelObject.qoi_column, \n",
    "    time_column_name=ishigamiModelObject.time_column_name, \n",
    "    index_column_name=ishigamiModelObject.index_column_name\n",
    "    )\n",
    "\n",
    "# This is an approach without sampling from a 'standard' site. and transformation step, instead everything is\n",
    "# performed directly in the original stochastic space/range and with original distribution.\n",
    "sampleFromStandardDist = False\n",
    "gPCE_over_time, polynomial_expansion, norms, coeff = uqPostprocessing.compute_PSP_for_uqef_dynamic_model(\n",
    "    ishigamiModelObject, joint_dist, \\\n",
    "    quadrature_order=14, expansion_order=7, \n",
    "    sampleFromStandardDist=sampleFromStandardDist,\n",
    "    joint_dist_standard=joint_dist_standard,\n",
    "    rule_quadrature='g', \\\n",
    "    poly_rule='three_terms_recurrence', poly_normed=True, \\\n",
    "    qoi_column_name=ishigamiModelObject.qoi_column, \n",
    "    time_column_name=ishigamiModelObject.time_column_name, \n",
    "    index_column_name=ishigamiModelObject.index_column_name\n",
    "    )"
   ]
  },
  {
   "cell_type": "code",
   "execution_count": null,
   "id": "6902acd7-2275-424f-8fc5-48c1664be95c",
   "metadata": {},
   "outputs": [],
   "source": [
    "joint_dist_standard = joint_isghigami_standard\n",
    "joint_dist = joint_isghigami\n",
    "\n",
    "nodes_quad, weights_quad = utility.generate_quadrature_nodes_and_weights(joint_dist_standard, quadrature_order=7)\n",
    "parameters_quad = utility.generate_parameters_from_nodes(nodes_quad, joint_dist_standard, joint_dist)\n",
    "\n",
    "parameters_quad_orig, weights_quad_orig = utility.generate_quadrature_nodes_and_weights(joint_dist, quadrature_order=7)\n",
    "\n",
    "np.allclose(parameters_quad, parameters_quad_orig, atol=0.01)\n"
   ]
  },
  {
   "cell_type": "code",
   "execution_count": null,
   "id": "4ed0277d-47e3-4b78-aab0-236f7d49cb35",
   "metadata": {},
   "outputs": [],
   "source": [
    "# Comparing these two approaches\n",
    "\n",
    "# Generating new samples\n",
    "numSamples = 1000 #5**dim #10**dim  # Note: Big Memory problem when more than 10**4 points?\n",
    "rule = 'r'\n",
    "\n",
    "new_set_of_parameters = joint_dist.sample(size=numSamples, rule=rule)\n",
    "new_set_of_nodes_transformed = utility.transformation_of_parameters(\n",
    "    new_set_of_parameters, joint_dist, joint_dist_standard)\n",
    "\n",
    "# new_set_of_nodes = joint_dist_standard.sample(size=numSamples, rule=rule)\n",
    "# new_set_of_parameters_transformed = utility.transformation_of_parameters(\n",
    "#     new_set_of_nodes, joint_dist_standard, joint_dist)\n",
    "\n",
    "gPCE_model_evaluated_original = gPCE_over_time[0](*new_set_of_parameters)\n",
    "gPCE_model_evaluated_my_approach = gPCE_over_time_my_approach[0](*new_set_of_nodes_transformed)\n",
    "# gPCE_model_evaluated_ionut = gPCE_over_time_ionut[0](*new_set_of_parameters)\n",
    "\n",
    "original_model_evaluated = np.empty([new_set_of_parameters.shape[1],])\n",
    "i=0\n",
    "for single_sample in new_set_of_parameters.T:\n",
    "    original_model_evaluated[i] = IshigamiModel.ishigami_func(\n",
    "        single_sample, a_model_param=a, b_model_param=b)\n",
    "    i+=1\n",
    "\n",
    "np.allclose(gPCE_model_evaluated_original, gPCE_model_evaluated_my_approach, atol=0.01)"
   ]
  },
  {
   "cell_type": "code",
   "execution_count": null,
   "id": "e39e1d94-df0d-482c-9ae2-6f80ea7a604b",
   "metadata": {},
   "outputs": [],
   "source": [
    "error_linf = np.max(np.abs(original_model_evaluated - gPCE_model_evaluated_original))\n",
    "error_l2_scaled = np.sqrt(np.sum((original_model_evaluated - gPCE_model_evaluated_original)**2)) / math.sqrt(numSamples)\n",
    "print(f\"gPCE_model_evaluated_original - Linf Error = {error_linf};\")\n",
    "print(f\"gPCE_model_evaluated_original - L2 Error scaled = {error_l2_scaled}\")"
   ]
  },
  {
   "cell_type": "markdown",
   "id": "1db39a63-c68a-43fe-a6c4-2adc03500a65",
   "metadata": {},
   "source": [
    "## Checking if MC computations work..."
   ]
  },
  {
   "cell_type": "code",
   "execution_count": null,
   "id": "3ae39b08-f50e-4797-a3c2-89a2e9c2098b",
   "metadata": {},
   "outputs": [],
   "source": [
    "a = 7\n",
    "b = 0.1\n",
    "ishigamiModelObject = IshigamiModel.IshigamiModel(configurationObject=None, a=a, b=b)\n",
    "\n",
    "x1 = cp.Uniform(-math.pi, math.pi)\n",
    "x2 = cp.Uniform(-math.pi, math.pi)\n",
    "x3 = cp.Uniform(-math.pi, math.pi)\n",
    "\n",
    "joint_isghigami = cp.J(x1, x2, x3)\n",
    "joint_isghigami_standard = cp.J(cp.Uniform(-1,1), cp.Uniform(-1,1), cp.Uniform(-1,1))\n",
    "\n",
    "joint_dist_standard = joint_isghigami_standard\n",
    "joint_dist = joint_isghigami\n",
    "read_nodes_from_file = False\n",
    "sampleFromStandardDist = True\n",
    "\n",
    "E_over_time, Var_over_time, StdDev_over_time, \\\n",
    "Skew_over_time, Kurt_over_time, P10_over_time, P90_over_time, sobol_m_over_time = \\\n",
    "uqPostprocessing.run_uq_mc_sim_and_compute_mc_stat_for_uqef_dynamic_model(\n",
    "    model=ishigamiModelObject,\n",
    "    jointDists=joint_dist, jointStandard=joint_dist_standard, numSamples=1000, rule=\"R\",\n",
    "    sampleFromStandardDist=sampleFromStandardDist,\n",
    "    read_nodes_from_file=False, \n",
    "    rounding=False, round_dec=4,\n",
    "    qoi_column_name=ishigamiModelObject.qoi_column, \n",
    "    time_column_name=ishigamiModelObject.time_column_name, \n",
    "    index_column_name=ishigamiModelObject.index_column_name,\n",
    "    return_dict_over_timestamps=False,\n",
    "    compute_mean=True, compute_var=True, compute_std=True,\n",
    "    compute_skew=True,\n",
    "    compute_kurt=True,\n",
    "    compute_p10=True,\n",
    "    compute_p90=True,\n",
    "    compute_Sobol_m=True,\n",
    ")"
   ]
  },
  {
   "cell_type": "code",
   "execution_count": null,
   "id": "c09dbb98-b169-4fec-96e7-90a3513ee7fd",
   "metadata": {},
   "outputs": [],
   "source": [
    "E_over_time"
   ]
  },
  {
   "cell_type": "code",
   "execution_count": null,
   "id": "62b9d33d-0fab-4897-b6a2-36ad650845f8",
   "metadata": {},
   "outputs": [],
   "source": [
    "sobol_m_over_time"
   ]
  }
 ],
 "metadata": {
  "kernelspec": {
   "display_name": "Python [conda env:py3115_uq]",
   "language": "python",
   "name": "conda-env-py3115_uq-py"
  },
  "language_info": {
   "codemirror_mode": {
    "name": "ipython",
    "version": 3
   },
   "file_extension": ".py",
   "mimetype": "text/x-python",
   "name": "python",
   "nbconvert_exporter": "python",
   "pygments_lexer": "ipython3",
   "version": "3.11.5"
  }
 },
 "nbformat": 4,
 "nbformat_minor": 5
}
